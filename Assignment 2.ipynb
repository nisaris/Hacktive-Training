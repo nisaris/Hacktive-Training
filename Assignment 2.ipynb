{
 "cells": [
  {
   "cell_type": "code",
   "execution_count": 1,
   "metadata": {},
   "outputs": [],
   "source": [
    "import math\n",
    "import statistics\n",
    "import numpy as np\n",
    "import scipy.stats\n",
    "import pandas as pd\n",
    "import statsmodels.api as sm"
   ]
  },
  {
   "cell_type": "code",
   "execution_count": 3,
   "metadata": {},
   "outputs": [],
   "source": [
    "elearn = pd.read_excel('./dataset/ELearn_2020.xlsx', sheet_name='Elearning_Prepost')"
   ]
  },
  {
   "cell_type": "code",
   "execution_count": 4,
   "metadata": {},
   "outputs": [
    {
     "name": "stdout",
     "output_type": "stream",
     "text": [
      "<class 'pandas.core.frame.DataFrame'>\n",
      "RangeIndex: 289057 entries, 0 to 289056\n",
      "Data columns (total 14 columns):\n",
      " #   Column         Non-Null Count   Dtype \n",
      "---  ------         --------------   ----- \n",
      " 0   BULAN          289057 non-null  int64 \n",
      " 1   USERNAME       289057 non-null  object\n",
      " 2   CFU/FU         288919 non-null  object\n",
      " 3   DIVISI         288918 non-null  object\n",
      " 4   NAME           289054 non-null  object\n",
      " 5   SURNAME        289057 non-null  object\n",
      " 6   HCBP           288742 non-null  object\n",
      " 7   COURSE         289057 non-null  object\n",
      " 8   TGL PRE TEST   284910 non-null  object\n",
      " 9   PRE TEST       284910 non-null  object\n",
      " 10  TGL POST TEST  289057 non-null  object\n",
      " 11  POST TEST      289057 non-null  object\n",
      " 12  STATUS         289057 non-null  object\n",
      " 13  JOB FAMILY     108029 non-null  object\n",
      "dtypes: int64(1), object(13)\n",
      "memory usage: 30.9+ MB\n"
     ]
    }
   ],
   "source": [
    "elearn.info()"
   ]
  },
  {
   "cell_type": "code",
   "execution_count": 5,
   "metadata": {},
   "outputs": [],
   "source": [
    "elearn.drop(elearn[elearn['STATUS'] == 'BELUM AKSES'].index, inplace = True)"
   ]
  },
  {
   "cell_type": "code",
   "execution_count": 6,
   "metadata": {},
   "outputs": [
    {
     "name": "stdout",
     "output_type": "stream",
     "text": [
      "<class 'pandas.core.frame.DataFrame'>\n",
      "Int64Index: 277221 entries, 1 to 289056\n",
      "Data columns (total 14 columns):\n",
      " #   Column         Non-Null Count   Dtype  \n",
      "---  ------         --------------   -----  \n",
      " 0   BULAN          277221 non-null  int64  \n",
      " 1   USERNAME       277221 non-null  object \n",
      " 2   CFU/FU         277098 non-null  object \n",
      " 3   DIVISI         277092 non-null  object \n",
      " 4   NAME           277218 non-null  object \n",
      " 5   SURNAME        277221 non-null  object \n",
      " 6   HCBP           276923 non-null  object \n",
      " 7   COURSE         277221 non-null  object \n",
      " 8   TGL PRE TEST   273074 non-null  object \n",
      " 9   PRE TEST       273074 non-null  object \n",
      " 10  TGL POST TEST  277221 non-null  object \n",
      " 11  POST TEST      277221 non-null  float64\n",
      " 12  STATUS         277221 non-null  object \n",
      " 13  JOB FAMILY     102224 non-null  object \n",
      "dtypes: float64(1), int64(1), object(12)\n",
      "memory usage: 31.7+ MB\n"
     ]
    }
   ],
   "source": [
    "elearn['POST TEST'] = pd.to_numeric(elearn['POST TEST'])\n",
    "elearn.info()"
   ]
  },
  {
   "cell_type": "markdown",
   "metadata": {},
   "source": [
    "Kita ingin menganalisis E-Learning Wawasan Kebangsaan"
   ]
  },
  {
   "cell_type": "code",
   "execution_count": 7,
   "metadata": {},
   "outputs": [],
   "source": [
    "#filter data wawasan kebangsaan\n",
    "d_elearn = elearn[['COURSE', 'CFU/FU', 'DIVISI', 'NAME', 'POST TEST', 'STATUS']]\n",
    "d_elearn.set_index('COURSE', inplace=True)\n",
    "wasbang = d_elearn.loc['Wawasan Kebangsaan']"
   ]
  },
  {
   "cell_type": "code",
   "execution_count": 8,
   "metadata": {},
   "outputs": [
    {
     "name": "stdout",
     "output_type": "stream",
     "text": [
      "                            CFU/FU   DIVISI                     NAME  \\\n",
      "COURSE                                                                 \n",
      "Wawasan Kebangsaan    CFU CONSUMER  DIV-TR1             ZAINAL BAHRI   \n",
      "Wawasan Kebangsaan    CFU CONSUMER  DIV-TR6               ABDUL MUIS   \n",
      "Wawasan Kebangsaan         FU NITS  DIV-DSO            DEDI SULAEMAN   \n",
      "Wawasan Kebangsaan    CFU CONSUMER  DIV-TR5            I MADE SUDANA   \n",
      "Wawasan Kebangsaan    CFU CONSUMER  DIV-TR6                    HEFNI   \n",
      "...                            ...      ...                      ...   \n",
      "Wawasan Kebangsaan  CFU ENTERPRISE  JVC-CIP            Rian Rizkiana   \n",
      "Wawasan Kebangsaan          FU HCM  JVC-YPT   MAULANA REZI RAMADHANA   \n",
      "Wawasan Kebangsaan  CFU ENTERPRISE  JVC-PCM            Mohamad Iqbal   \n",
      "Wawasan Kebangsaan  CFU ENTERPRISE  JVC-ADM   HENDY ADRIAN WICAKSONO   \n",
      "Wawasan Kebangsaan               T        T  NGAKAN MADE BAYU ADITYA   \n",
      "\n",
      "                    POST TEST       STATUS  \n",
      "COURSE                                      \n",
      "Wawasan Kebangsaan       80.0        LULUS  \n",
      "Wawasan Kebangsaan       70.0        LULUS  \n",
      "Wawasan Kebangsaan       85.0        LULUS  \n",
      "Wawasan Kebangsaan       45.0  TIDAK LULUS  \n",
      "Wawasan Kebangsaan       90.0        LULUS  \n",
      "...                       ...          ...  \n",
      "Wawasan Kebangsaan       70.0        LULUS  \n",
      "Wawasan Kebangsaan       95.0        LULUS  \n",
      "Wawasan Kebangsaan       90.0        LULUS  \n",
      "Wawasan Kebangsaan       75.0        LULUS  \n",
      "Wawasan Kebangsaan       80.0        LULUS  \n",
      "\n",
      "[25397 rows x 5 columns]\n"
     ]
    }
   ],
   "source": [
    "print(wasbang)"
   ]
  },
  {
   "cell_type": "code",
   "execution_count": 9,
   "metadata": {},
   "outputs": [
    {
     "name": "stdout",
     "output_type": "stream",
     "text": [
      "<class 'pandas.core.frame.DataFrame'>\n",
      "Index: 25397 entries, Wawasan Kebangsaan to Wawasan Kebangsaan\n",
      "Data columns (total 5 columns):\n",
      " #   Column     Non-Null Count  Dtype  \n",
      "---  ------     --------------  -----  \n",
      " 0   CFU/FU     25385 non-null  object \n",
      " 1   DIVISI     25386 non-null  object \n",
      " 2   NAME       25397 non-null  object \n",
      " 3   POST TEST  25397 non-null  float64\n",
      " 4   STATUS     25397 non-null  object \n",
      "dtypes: float64(1), object(4)\n",
      "memory usage: 1.2+ MB\n"
     ]
    }
   ],
   "source": [
    "wasbang.info()"
   ]
  },
  {
   "cell_type": "markdown",
   "metadata": {},
   "source": [
    "Kita akan menentukan mean, median, modus, varians, standar deviasi, serta range dari Post Test Wawasan Kebangsaan"
   ]
  },
  {
   "cell_type": "code",
   "execution_count": 10,
   "metadata": {},
   "outputs": [
    {
     "name": "stdout",
     "output_type": "stream",
     "text": [
      "Mean =  90.64909241248967\n",
      "Median =  90.0\n",
      "Modus =  0    95.0\n",
      "dtype: float64\n",
      "Variance =  79.6473740581263\n",
      "Standar Deviasi =  8.924537750389446\n",
      "Range =  100.0\n"
     ]
    }
   ],
   "source": [
    "#mean\n",
    "mean_wasbang = wasbang['POST TEST'].mean()\n",
    "print('Mean = ', mean_wasbang)\n",
    "\n",
    "#median\n",
    "median_wasbang = wasbang['POST TEST'].median()\n",
    "print('Median = ', median_wasbang)\n",
    "\n",
    "#modus\n",
    "modus_wasbang = wasbang['POST TEST'].mode()\n",
    "print('Modus = ', modus_wasbang)\n",
    "\n",
    "#varians dengan degree of freedom = 1\n",
    "var_wasbang = np.var(wasbang['POST TEST'], ddof=1)\n",
    "print('Variance = ', var_wasbang)\n",
    "\n",
    "#standar deviasi dengan degree of freedom = 1\n",
    "std_wasbang = np.std(wasbang['POST TEST'], ddof = 1)\n",
    "print('Standar Deviasi = ', std_wasbang)\n",
    "\n",
    "#range\n",
    "range_wasbang = wasbang['POST TEST'].max() - wasbang['POST TEST'].min()\n",
    "print('Range = ', range_wasbang)"
   ]
  },
  {
   "cell_type": "markdown",
   "metadata": {},
   "source": [
    "Dapat dilihat dari hasil statistik tersebut, apabila e-learning Wawasan Kebangsaan memiliki nilai mean 90,64 dimana rata-rata tersebut merupakan nilai yang cukup tinggi.\n",
    "\n",
    "Nilai median dari e-learning Wawasan Kebangsaan adalah 90 serta modusnya 95.\n",
    "\n",
    "Dengan menggunakan degree of freedom 1, nilai variance Post Test Wawasan Kebangsaan adalah 79,64, menandakan variasi nilai dari post test Wawasan Kebangsaan cukup besar. Sedangkan deviasinya adalah 8,92.\n",
    "\n",
    "Range Wawasan Kebangsaan adalah 100. dimana berarti masih ada peserta yang mendapatkan nilai 0 dan ada juga peserta yang mendapat nilai 100."
   ]
  },
  {
   "cell_type": "markdown",
   "metadata": {},
   "source": [
    "Sekarang kita akan mencoba melihat distribusi dari data Post Test Wawasan Kebangsaan"
   ]
  },
  {
   "cell_type": "code",
   "execution_count": 12,
   "metadata": {},
   "outputs": [
    {
     "data": {
      "image/png": "[encoded data removed]",
      "text/plain": [
       "<Figure size 432x288 with 1 Axes>"
      ]
     },
     "metadata": {
      "needs_background": "light"
     },
     "output_type": "display_data"
    },
    {
     "data": {
      "text/plain": [
       "[Text(0, 0.5, 'Frekuensi'), Text(0.5, 0, 'Nilai Post Test')]"
      ]
     },
     "execution_count": 12,
     "metadata": {},
     "output_type": "execute_result"
    },
    {
     "data": {
      "image/png": "[encoded data removed]",
      "text/plain": [
       "<Figure size 360x360 with 1 Axes>"
      ]
     },
     "metadata": {},
     "output_type": "display_data"
    }
   ],
   "source": [
    "from matplotlib import pyplot\n",
    "pyplot.hist(wasbang['POST TEST'])\n",
    "pyplot.show()\n",
    "\n",
    "%matplotlib inline\n",
    "import matplotlib.pyplot as plt\n",
    "from IPython.display import Math, Latex\n",
    "from IPython.core.display import Image\n",
    "\n",
    "import seaborn as sns\n",
    "sns.set(color_codes=True)\n",
    "sns.set(rc={'figure.figsize':(5,5)})\n",
    "\n",
    "data_plot = sns.distplot (wasbang['POST TEST'],\n",
    "                         kde = False,\n",
    "                         color = 'skyblue',\n",
    "                         hist_kws = {\"linewidth\": 15, 'alpha': 1})\n",
    "data_plot.set(xlabel = 'Nilai Post Test', ylabel = 'Frekuensi')"
   ]
  },
  {
   "cell_type": "markdown",
   "metadata": {},
   "source": [
    "JIka kita melihat distribution plot dari data Post Test Wawasan Kebangsaan, visualisasi distribustion plot data tersebut menyerupai binomial distribution."
   ]
  },
  {
   "cell_type": "markdown",
   "metadata": {},
   "source": [
    "Selanjutnya kita akan mencoba membuat model probabilitas seseorang akan mengakses kembali e-learning Wawasan Kebangsaan setelah meangaksesnya.\n",
    "\n",
    "Digunakan binomial distribution untuk membuat random variable."
   ]
  },
  {
   "cell_type": "code",
   "execution_count": 13,
   "metadata": {},
   "outputs": [
    {
     "data": {
      "text/plain": [
       "[Text(0, 0.5, 'Frekuensi'), Text(0.5, 0, 'Binomial Distribution')]"
      ]
     },
     "execution_count": 13,
     "metadata": {},
     "output_type": "execute_result"
    },
    {
     "data": {
      "image/png": "[encoded data removed]",
      "text/plain": [
       "<Figure size 360x360 with 1 Axes>"
      ]
     },
     "metadata": {},
     "output_type": "display_data"
    }
   ],
   "source": [
    "from scipy.stats import binom\n",
    "binom_retest = binom.rvs (n=25397, p=0.5, size=10000)\n",
    "\n",
    "dist_plot = sns.distplot (wasbang['POST TEST'],\n",
    "                         kde = False,\n",
    "                         color = 'skyblue',\n",
    "                         hist_kws = {\"linewidth\": 15, 'alpha':1})\n",
    "dist_plot.set(xlabel = 'Binomial Distribution', ylabel = 'Frekuensi')"
   ]
  },
  {
   "cell_type": "markdown",
   "metadata": {},
   "source": [
    "Sekarang, kita akan menghitung nilai Confidence Interval dari data Post Test Wawasan Kebangsaan"
   ]
  },
  {
   "cell_type": "code",
   "execution_count": 14,
   "metadata": {},
   "outputs": [
    {
     "name": "stdout",
     "output_type": "stream",
     "text": [
      "Lower Limit of Post Test :  90.53933077112629\n",
      "Upper Limit of Post Test :  90.75885405385304\n"
     ]
    }
   ],
   "source": [
    "n = wasbang['POST TEST'].count()\n",
    "z = 1.96\n",
    "\n",
    "SE = std_wasbang / np.sqrt(n)\n",
    "lcb = mean_wasbang - z* SE #lower\n",
    "ucb = mean_wasbang + z* SE #Upper\n",
    "print ('Lower Limit of Post Test : ', lcb)\n",
    "print ('Upper Limit of Post Test : ', ucb)"
   ]
  },
  {
   "cell_type": "markdown",
   "metadata": {},
   "source": [
    "Dari hasil tersebut maka CI ada diantara 90,53 dan 90,75"
   ]
  },
  {
   "cell_type": "markdown",
   "metadata": {},
   "source": [
    "Selanjutnya kita ingin menguji hypothesis apabila ada perbedaan mean antara CFU dengan FU. Kita akan ambil perwakilan FU yaitu FU HCM, dan perwakilan CFU yaitu CFU Consumer.\n",
    "\n",
    "Mean1 = Mean Post Test CFU Consumer\n",
    "\n",
    "Mean2 = Mean Post Test FU HCM\n",
    "\n",
    "H0 : Mean 1 == Mean 2\n",
    "\n",
    "H1 : Mean 1 =/= Mean 2"
   ]
  },
  {
   "cell_type": "code",
   "execution_count": 15,
   "metadata": {},
   "outputs": [
    {
     "name": "stdout",
     "output_type": "stream",
     "text": [
      "<class 'pandas.core.frame.DataFrame'>\n",
      "Index: 8435 entries, CFU CONSUMER to CFU CONSUMER\n",
      "Data columns (total 4 columns):\n",
      " #   Column     Non-Null Count  Dtype  \n",
      "---  ------     --------------  -----  \n",
      " 0   DIVISI     8435 non-null   object \n",
      " 1   NAME       8435 non-null   object \n",
      " 2   POST TEST  8435 non-null   float64\n",
      " 3   STATUS     8435 non-null   object \n",
      "dtypes: float64(1), object(3)\n",
      "memory usage: 329.5+ KB\n",
      "<class 'pandas.core.frame.DataFrame'>\n",
      "Index: 3071 entries, FU HCM to FU HCM\n",
      "Data columns (total 4 columns):\n",
      " #   Column     Non-Null Count  Dtype  \n",
      "---  ------     --------------  -----  \n",
      " 0   DIVISI     3071 non-null   object \n",
      " 1   NAME       3071 non-null   object \n",
      " 2   POST TEST  3071 non-null   float64\n",
      " 3   STATUS     3071 non-null   object \n",
      "dtypes: float64(1), object(3)\n",
      "memory usage: 120.0+ KB\n"
     ]
    }
   ],
   "source": [
    "wasbang.set_index('CFU/FU', inplace=True)\n",
    "hypo_wasbang1 = wasbang.loc['CFU CONSUMER']\n",
    "hypo_wasbang2 = wasbang.loc['FU HCM']\n",
    "hypo_wasbang1.info()\n",
    "hypo_wasbang2.info()"
   ]
  },
  {
   "cell_type": "code",
   "execution_count": 16,
   "metadata": {},
   "outputs": [
    {
     "name": "stdout",
     "output_type": "stream",
     "text": [
      "CFU Consumer:  8435 90.55957320687611 10.011309791670012\n",
      "FU HCM:  3071 90.99153370237707 8.05226777040732\n"
     ]
    }
   ],
   "source": [
    "n_cons = 8435\n",
    "mean_cons = hypo_wasbang1['POST TEST'].mean()\n",
    "std_cons = np.std(hypo_wasbang1['POST TEST'], ddof = 1)\n",
    "print('CFU Consumer: ', n_cons, mean_cons, std_cons)\n",
    "\n",
    "n_hcm = 3071\n",
    "mean_hcm = hypo_wasbang2['POST TEST'].mean()\n",
    "std_hcm = np.std(hypo_wasbang2['POST TEST'], ddof = 1)\n",
    "print('FU HCM: ', n_hcm, mean_hcm, std_hcm)"
   ]
  },
  {
   "cell_type": "code",
   "execution_count": 17,
   "metadata": {},
   "outputs": [
    {
     "data": {
      "text/plain": [
       "(-2.1511102217799953, 0.03146750089222486)"
      ]
     },
     "execution_count": 17,
     "metadata": {},
     "output_type": "execute_result"
    }
   ],
   "source": [
    "sm.stats.ztest(hypo_wasbang1['POST TEST'].dropna(),\n",
    "hypo_wasbang2['POST TEST'].dropna(), alternative = 'two-sided')"
   ]
  },
  {
   "cell_type": "markdown",
   "metadata": {},
   "source": [
    "Dari hasil tersebut maka kita dapat mereject H0, sehingga memang ada perbedaan dari mean FU HCM dibandingkan dengan mean CFU Consumer"
   ]
  },
  {
   "cell_type": "code",
   "execution_count": null,
   "metadata": {},
   "outputs": [],
   "source": []
  }
 ],
 "metadata": {
  "kernelspec": {
   "display_name": "Python 3",
   "language": "python",
   "name": "python3"
  },
  "language_info": {
   "codemirror_mode": {
    "name": "ipython",
    "version": 3
   },
   "file_extension": ".py",
   "mimetype": "text/x-python",
   "name": "python",
   "nbconvert_exporter": "python",
   "pygments_lexer": "ipython3",
   "version": "3.8.3"
  }
 },
 "nbformat": 4,
 "nbformat_minor": 4
}
