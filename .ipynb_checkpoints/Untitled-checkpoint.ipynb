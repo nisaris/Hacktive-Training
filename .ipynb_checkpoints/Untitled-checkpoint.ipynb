{
 "cells": [
  {
   "cell_type": "code",
   "execution_count": 1,
   "metadata": {},
   "outputs": [],
   "source": [
    "import math\n",
    "import statistics\n",
    "import numpy as np\n",
    "import scipy.stats\n",
    "import pandas as pd"
   ]
  },
  {
   "cell_type": "code",
   "execution_count": 2,
   "metadata": {},
   "outputs": [],
   "source": [
    "elearn = pd.read_excel('./dataset/ELearn_2020.xlsx', sheet_name='Elearning_Prepost', skiprows=range(0), skipfooter=2)"
   ]
  },
  {
   "cell_type": "markdown",
   "metadata": {},
   "source": [
    "Kita ingin mengevaluasi pelaksanaan E-Learning Wawasan Kebangsaan"
   ]
  },
  {
   "cell_type": "code",
   "execution_count": 4,
   "metadata": {},
   "outputs": [
    {
     "name": "stdout",
     "output_type": "stream",
     "text": [
      "<class 'pandas.core.frame.DataFrame'>\n",
      "RangeIndex: 289055 entries, 0 to 289054\n",
      "Data columns (total 14 columns):\n",
      " #   Column         Non-Null Count   Dtype \n",
      "---  ------         --------------   ----- \n",
      " 0   BULAN          289055 non-null  int64 \n",
      " 1   USERNAME       289055 non-null  object\n",
      " 2   CFU/FU         288917 non-null  object\n",
      " 3   DIVISI         288916 non-null  object\n",
      " 4   NAME           289052 non-null  object\n",
      " 5   SURNAME        289055 non-null  object\n",
      " 6   HCBP           288740 non-null  object\n",
      " 7   COURSE         289055 non-null  object\n",
      " 8   TGL PRE TEST   284908 non-null  object\n",
      " 9   PRE TEST       284908 non-null  object\n",
      " 10  TGL POST TEST  289055 non-null  object\n",
      " 11  POST TEST      289055 non-null  object\n",
      " 12  STATUS         289055 non-null  object\n",
      " 13  JOB FAMILY     108029 non-null  object\n",
      "dtypes: int64(1), object(13)\n",
      "memory usage: 30.9+ MB\n"
     ]
    }
   ],
   "source": [
    "elearn.info()"
   ]
  },
  {
   "cell_type": "code",
   "execution_count": 8,
   "metadata": {},
   "outputs": [],
   "source": [
    "d_elearn = elearn[['COURSE', 'CFU/FU', 'DIVISI', 'NAME', 'POST TEST', 'STATUS']]"
   ]
  },
  {
   "cell_type": "code",
   "execution_count": 9,
   "metadata": {},
   "outputs": [],
   "source": [
    "d_elearn.set_index('COURSE', inplace=True)"
   ]
  },
  {
   "cell_type": "code",
   "execution_count": 11,
   "metadata": {},
   "outputs": [],
   "source": [
    "wasbang = d_elearn.loc['Wawasan Kebangsaan']"
   ]
  },
  {
   "cell_type": "code",
   "execution_count": 13,
   "metadata": {},
   "outputs": [
    {
     "name": "stdout",
     "output_type": "stream",
     "text": [
      "                            CFU/FU   DIVISI                     NAME  \\\n",
      "COURSE                                                                 \n",
      "Wawasan Kebangsaan    CFU CONSUMER  DIV-TR2             BUDI HARJONO   \n",
      "Wawasan Kebangsaan    CFU CONSUMER  DIV-TR2              AGUS TRIONO   \n",
      "Wawasan Kebangsaan    CFU CONSUMER  DIV-TR1             ZAINAL BAHRI   \n",
      "Wawasan Kebangsaan          FU HCM  CTR-TCU                  TONTOWI   \n",
      "Wawasan Kebangsaan    CFU CONSUMER  DIV-TR6               ABDUL MUIS   \n",
      "...                            ...      ...                      ...   \n",
      "Wawasan Kebangsaan  CFU ENTERPRISE  JVC-CIP            Rian Rizkiana   \n",
      "Wawasan Kebangsaan          FU HCM  JVC-YPT   MAULANA REZI RAMADHANA   \n",
      "Wawasan Kebangsaan  CFU ENTERPRISE  JVC-PCM            Mohamad Iqbal   \n",
      "Wawasan Kebangsaan  CFU ENTERPRISE  JVC-ADM   HENDY ADRIAN WICAKSONO   \n",
      "Wawasan Kebangsaan               T        T  NGAKAN MADE BAYU ADITYA   \n",
      "\n",
      "                   POST TEST       STATUS  \n",
      "COURSE                                     \n",
      "Wawasan Kebangsaan         -  BELUM AKSES  \n",
      "Wawasan Kebangsaan         -  BELUM AKSES  \n",
      "Wawasan Kebangsaan        80        LULUS  \n",
      "Wawasan Kebangsaan         -  BELUM AKSES  \n",
      "Wawasan Kebangsaan        70        LULUS  \n",
      "...                      ...          ...  \n",
      "Wawasan Kebangsaan        70        LULUS  \n",
      "Wawasan Kebangsaan        95        LULUS  \n",
      "Wawasan Kebangsaan        90        LULUS  \n",
      "Wawasan Kebangsaan        75        LULUS  \n",
      "Wawasan Kebangsaan        80        LULUS  \n",
      "\n",
      "[25718 rows x 5 columns]\n"
     ]
    }
   ],
   "source": [
    "print(wasbang)"
   ]
  },
  {
   "cell_type": "code",
   "execution_count": null,
   "metadata": {},
   "outputs": [],
   "source": []
  }
 ],
 "metadata": {
  "kernelspec": {
   "display_name": "Python 3",
   "language": "python",
   "name": "python3"
  },
  "language_info": {
   "codemirror_mode": {
    "name": "ipython",
    "version": 3
   },
   "file_extension": ".py",
   "mimetype": "text/x-python",
   "name": "python",
   "nbconvert_exporter": "python",
   "pygments_lexer": "ipython3",
   "version": "3.8.3"
  }
 },
 "nbformat": 4,
 "nbformat_minor": 4
}
