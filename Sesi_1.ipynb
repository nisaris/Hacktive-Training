{
  "nbformat": 4,
  "nbformat_minor": 0,
  "metadata": {
    "colab": {
      "name": "Sesi_1.ipynb",
      "provenance": [],
      "collapsed_sections": []
    },
    "kernelspec": {
      "name": "python3",
      "display_name": "Python 3"
    }
  },
  "cells": [
    {
      "cell_type": "markdown",
      "metadata": {
        "id": "o905x5ullKwR"
      },
      "source": [
        "# Sesi 1"
      ]
    },
    {
      "cell_type": "markdown",
      "metadata": {
        "id": "g7WGUXCBoGBw"
      },
      "source": [
        "## Integer\n",
        "\n",
        "Integer adalah bilangan bulat pada Python"
      ]
    },
    {
      "cell_type": "code",
      "metadata": {
        "colab": {
          "base_uri": "https://localhost:8080/"
        },
        "id": "6GoEJrOSkNvw",
        "outputId": "462b50aa-fb67-4afa-ff92-cf2d7712f30b"
      },
      "source": [
        "print(1)"
      ],
      "execution_count": 1,
      "outputs": [
        {
          "output_type": "stream",
          "text": [
            "1\n"
          ],
          "name": "stdout"
        }
      ]
    },
    {
      "cell_type": "code",
      "metadata": {
        "colab": {
          "base_uri": "https://localhost:8080/"
        },
        "id": "Aumrwdaan2y1",
        "outputId": "fb8192d7-dde9-4cc8-bc24-4b68c2a13a85"
      },
      "source": [
        "print(type(10))"
      ],
      "execution_count": 2,
      "outputs": [
        {
          "output_type": "stream",
          "text": [
            "<class 'int'>\n"
          ],
          "name": "stdout"
        }
      ]
    },
    {
      "cell_type": "markdown",
      "metadata": {
        "id": "5W0NtDWwpA0f"
      },
      "source": [
        "## Float\n",
        "\n",
        "Float adalah pecahan pada Python"
      ]
    },
    {
      "cell_type": "code",
      "metadata": {
        "colab": {
          "base_uri": "https://localhost:8080/"
        },
        "id": "2XMIrZECn46h",
        "outputId": "5fb580e8-84b8-4576-e6bc-4e503cc41db8"
      },
      "source": [
        "print(4.2)"
      ],
      "execution_count": 3,
      "outputs": [
        {
          "output_type": "stream",
          "text": [
            "4.2\n"
          ],
          "name": "stdout"
        }
      ]
    },
    {
      "cell_type": "code",
      "metadata": {
        "colab": {
          "base_uri": "https://localhost:8080/"
        },
        "id": "WirF_F9jpHTt",
        "outputId": "8c1a18ef-f1c5-437e-bfe6-31c71715719a"
      },
      "source": [
        "print(type(4.2))"
      ],
      "execution_count": 4,
      "outputs": [
        {
          "output_type": "stream",
          "text": [
            "<class 'float'>\n"
          ],
          "name": "stdout"
        }
      ]
    },
    {
      "cell_type": "code",
      "metadata": {
        "colab": {
          "base_uri": "https://localhost:8080/"
        },
        "id": "PWv4elztpKp6",
        "outputId": "70a2daaf-ff4a-4c90-bf0f-41f0fb6dae60"
      },
      "source": [
        "print(4.)"
      ],
      "execution_count": 5,
      "outputs": [
        {
          "output_type": "stream",
          "text": [
            "4.0\n"
          ],
          "name": "stdout"
        }
      ]
    },
    {
      "cell_type": "code",
      "metadata": {
        "colab": {
          "base_uri": "https://localhost:8080/"
        },
        "id": "LUcg4MRgpQI-",
        "outputId": "36c0c3ee-41b8-41ad-ca59-626931deb5ac"
      },
      "source": [
        "print(.4)"
      ],
      "execution_count": 6,
      "outputs": [
        {
          "output_type": "stream",
          "text": [
            "0.4\n"
          ],
          "name": "stdout"
        }
      ]
    },
    {
      "cell_type": "code",
      "metadata": {
        "colab": {
          "base_uri": "https://localhost:8080/"
        },
        "id": "let5O57TpSvg",
        "outputId": "57faee1c-f915-4111-ab1d-1f56cb3286ed"
      },
      "source": [
        "print(.4e8)"
      ],
      "execution_count": 7,
      "outputs": [
        {
          "output_type": "stream",
          "text": [
            "40000000.0\n"
          ],
          "name": "stdout"
        }
      ]
    },
    {
      "cell_type": "markdown",
      "metadata": {
        "id": "kHTouxTCpuQV"
      },
      "source": [
        "## String"
      ]
    },
    {
      "cell_type": "code",
      "metadata": {
        "colab": {
          "base_uri": "https://localhost:8080/"
        },
        "id": "TokIj8c0pWLT",
        "outputId": "9e9dcae3-673a-4a48-85d3-85b10f2dc0cc"
      },
      "source": [
        "print('Hacktiv8')"
      ],
      "execution_count": 8,
      "outputs": [
        {
          "output_type": "stream",
          "text": [
            "Hacktiv8\n"
          ],
          "name": "stdout"
        }
      ]
    },
    {
      "cell_type": "code",
      "metadata": {
        "colab": {
          "base_uri": "https://localhost:8080/"
        },
        "id": "YSH1zdjrp6Yf",
        "outputId": "df063f83-d553-446c-d547-a688aca0996f"
      },
      "source": [
        "print(type('Hacktiv8'))"
      ],
      "execution_count": 9,
      "outputs": [
        {
          "output_type": "stream",
          "text": [
            "<class 'str'>\n"
          ],
          "name": "stdout"
        }
      ]
    },
    {
      "cell_type": "code",
      "metadata": {
        "colab": {
          "base_uri": "https://localhost:8080/"
        },
        "id": "b4ByS6tEp8_Y",
        "outputId": "21472000-4a10-4956-d7fd-0da39de89c64"
      },
      "source": [
        "print(type('4'))"
      ],
      "execution_count": 10,
      "outputs": [
        {
          "output_type": "stream",
          "text": [
            "<class 'str'>\n"
          ],
          "name": "stdout"
        }
      ]
    },
    {
      "cell_type": "markdown",
      "metadata": {
        "id": "DVOI5RpBrCc8"
      },
      "source": [
        "## Boolean"
      ]
    },
    {
      "cell_type": "code",
      "metadata": {
        "colab": {
          "base_uri": "https://localhost:8080/"
        },
        "id": "yuLniCHVqtGx",
        "outputId": "b66d9629-f4ea-4d74-aa44-064b53c5369f"
      },
      "source": [
        "print(type(True))"
      ],
      "execution_count": 11,
      "outputs": [
        {
          "output_type": "stream",
          "text": [
            "<class 'bool'>\n"
          ],
          "name": "stdout"
        }
      ]
    },
    {
      "cell_type": "markdown",
      "metadata": {
        "id": "LsmyoC0Zs78i"
      },
      "source": [
        "## Variable Assignment"
      ]
    },
    {
      "cell_type": "code",
      "metadata": {
        "id": "_4qkTFuvr4Cx"
      },
      "source": [
        "kotakBrownies = 5"
      ],
      "execution_count": 12,
      "outputs": []
    },
    {
      "cell_type": "code",
      "metadata": {
        "colab": {
          "base_uri": "https://localhost:8080/"
        },
        "id": "20igZ25-tEoh",
        "outputId": "9e2f9b96-3032-43d3-87a1-98079670679b"
      },
      "source": [
        "print(kotakBrownies)"
      ],
      "execution_count": 13,
      "outputs": [
        {
          "output_type": "stream",
          "text": [
            "5\n"
          ],
          "name": "stdout"
        }
      ]
    },
    {
      "cell_type": "code",
      "metadata": {
        "colab": {
          "base_uri": "https://localhost:8080/"
        },
        "id": "XKjubMvYtQPj",
        "outputId": "fe20d559-1f1c-45cf-bdda-8d18ba519da1"
      },
      "source": [
        "kotakBrownies"
      ],
      "execution_count": 14,
      "outputs": [
        {
          "output_type": "execute_result",
          "data": {
            "text/plain": [
              "5"
            ]
          },
          "metadata": {
            "tags": []
          },
          "execution_count": 14
        }
      ]
    },
    {
      "cell_type": "code",
      "metadata": {
        "id": "Czk6abkVtT7l"
      },
      "source": [
        "kotakBrownies = 10"
      ],
      "execution_count": 15,
      "outputs": []
    },
    {
      "cell_type": "code",
      "metadata": {
        "colab": {
          "base_uri": "https://localhost:8080/"
        },
        "id": "mL30QZy7tdqN",
        "outputId": "f76e6753-35ee-41be-901d-6a62045fab21"
      },
      "source": [
        "kotakBrownies"
      ],
      "execution_count": 16,
      "outputs": [
        {
          "output_type": "execute_result",
          "data": {
            "text/plain": [
              "10"
            ]
          },
          "metadata": {
            "tags": []
          },
          "execution_count": 16
        }
      ]
    },
    {
      "cell_type": "code",
      "metadata": {
        "id": "FsEDRZQite0s"
      },
      "source": [
        "a = b = c = 10"
      ],
      "execution_count": 17,
      "outputs": []
    },
    {
      "cell_type": "code",
      "metadata": {
        "colab": {
          "base_uri": "https://localhost:8080/"
        },
        "id": "y4zCoQBtt2SA",
        "outputId": "2ccbb6a0-2046-457e-c32c-d41b3d4b4229"
      },
      "source": [
        "print(a, b, c)"
      ],
      "execution_count": 18,
      "outputs": [
        {
          "output_type": "stream",
          "text": [
            "10 10 10\n"
          ],
          "name": "stdout"
        }
      ]
    },
    {
      "cell_type": "code",
      "metadata": {
        "colab": {
          "base_uri": "https://localhost:8080/"
        },
        "id": "bOJJnbdct35B",
        "outputId": "45e5f627-f232-4c56-9587-036d198536fb"
      },
      "source": [
        "var = 14.5\n",
        "print(var)"
      ],
      "execution_count": 19,
      "outputs": [
        {
          "output_type": "stream",
          "text": [
            "14.5\n"
          ],
          "name": "stdout"
        }
      ]
    },
    {
      "cell_type": "code",
      "metadata": {
        "colab": {
          "base_uri": "https://localhost:8080/"
        },
        "id": "MiG-LHdPuqwC",
        "outputId": "1ba6408c-d766-4e37-9217-d9332ccb4437"
      },
      "source": [
        "var = 'Now im a string'\n",
        "print(var)"
      ],
      "execution_count": 20,
      "outputs": [
        {
          "output_type": "stream",
          "text": [
            "Now im a string\n"
          ],
          "name": "stdout"
        }
      ]
    },
    {
      "cell_type": "markdown",
      "metadata": {
        "id": "fa9O0TYjxUQq"
      },
      "source": [
        "## Variable Names"
      ]
    },
    {
      "cell_type": "code",
      "metadata": {
        "id": "Txywi4Wfuu_z"
      },
      "source": [
        "nama = 'Raka'\n",
        "Umur = 27\n",
        "punya_laptop = True"
      ],
      "execution_count": 21,
      "outputs": []
    },
    {
      "cell_type": "code",
      "metadata": {
        "colab": {
          "base_uri": "https://localhost:8080/"
        },
        "id": "6fZu-Y0Wxc9j",
        "outputId": "5ec60c86-dacb-42ea-e348-66ec4408ed24"
      },
      "source": [
        "print(nama, Umur, punya_laptop)"
      ],
      "execution_count": 22,
      "outputs": [
        {
          "output_type": "stream",
          "text": [
            "Raka 27 True\n"
          ],
          "name": "stdout"
        }
      ]
    },
    {
      "cell_type": "markdown",
      "metadata": {
        "id": "SPYQfNywy40X"
      },
      "source": [
        "## Operators and Expressions"
      ]
    },
    {
      "cell_type": "code",
      "metadata": {
        "id": "rRKq4VQLxrUg"
      },
      "source": [
        "a = 10\n",
        "b = 20"
      ],
      "execution_count": 23,
      "outputs": []
    },
    {
      "cell_type": "code",
      "metadata": {
        "colab": {
          "base_uri": "https://localhost:8080/"
        },
        "id": "XiHpvdKjzB2o",
        "outputId": "ccffb7e0-090f-49a2-8dca-53228bb368af"
      },
      "source": [
        "print(a + b)"
      ],
      "execution_count": 24,
      "outputs": [
        {
          "output_type": "stream",
          "text": [
            "30\n"
          ],
          "name": "stdout"
        }
      ]
    },
    {
      "cell_type": "code",
      "metadata": {
        "colab": {
          "base_uri": "https://localhost:8080/"
        },
        "id": "LyqUfSzIzFBz",
        "outputId": "b92b651f-1456-4843-d802-1c0ec30eee9d"
      },
      "source": [
        "a + b - 5"
      ],
      "execution_count": 25,
      "outputs": [
        {
          "output_type": "execute_result",
          "data": {
            "text/plain": [
              "25"
            ]
          },
          "metadata": {
            "tags": []
          },
          "execution_count": 25
        }
      ]
    },
    {
      "cell_type": "code",
      "metadata": {
        "colab": {
          "base_uri": "https://localhost:8080/"
        },
        "id": "socBaGV2zcA1",
        "outputId": "9868372a-6101-4949-8577-c9a815793748"
      },
      "source": [
        "a"
      ],
      "execution_count": 26,
      "outputs": [
        {
          "output_type": "execute_result",
          "data": {
            "text/plain": [
              "10"
            ]
          },
          "metadata": {
            "tags": []
          },
          "execution_count": 26
        }
      ]
    },
    {
      "cell_type": "code",
      "metadata": {
        "id": "BS7rPdSJ09Gz"
      },
      "source": [
        "a = b"
      ],
      "execution_count": 27,
      "outputs": []
    },
    {
      "cell_type": "code",
      "metadata": {
        "colab": {
          "base_uri": "https://localhost:8080/"
        },
        "id": "qL1mEOkw1K9u",
        "outputId": "287b0fd4-5f80-4b0c-84d2-718081c3f0db"
      },
      "source": [
        "a"
      ],
      "execution_count": 28,
      "outputs": [
        {
          "output_type": "execute_result",
          "data": {
            "text/plain": [
              "20"
            ]
          },
          "metadata": {
            "tags": []
          },
          "execution_count": 28
        }
      ]
    },
    {
      "cell_type": "code",
      "metadata": {
        "colab": {
          "base_uri": "https://localhost:8080/"
        },
        "id": "VIsLkO1q1LoR",
        "outputId": "9a3ac33b-7e74-44c3-a182-3555c8ec27ce"
      },
      "source": [
        "x = 10\n",
        "z = 'Digilearn'\n",
        "\n",
        "x == z"
      ],
      "execution_count": 29,
      "outputs": [
        {
          "output_type": "execute_result",
          "data": {
            "text/plain": [
              "False"
            ]
          },
          "metadata": {
            "tags": []
          },
          "execution_count": 29
        }
      ]
    },
    {
      "cell_type": "markdown",
      "metadata": {
        "id": "HMfRgpcX4VNw"
      },
      "source": [
        "## Python List"
      ]
    },
    {
      "cell_type": "code",
      "metadata": {
        "id": "PQqESUG32uSs"
      },
      "source": [
        "contohList = [1, 2, 3, 5, 8, 10]"
      ],
      "execution_count": 30,
      "outputs": []
    },
    {
      "cell_type": "code",
      "metadata": {
        "colab": {
          "base_uri": "https://localhost:8080/"
        },
        "id": "FvhWleJI4qZy",
        "outputId": "51ede231-da7a-42d4-afcd-0f3498312f47"
      },
      "source": [
        "print(contohList)"
      ],
      "execution_count": 31,
      "outputs": [
        {
          "output_type": "stream",
          "text": [
            "[1, 2, 3, 5, 8, 10]\n"
          ],
          "name": "stdout"
        }
      ]
    },
    {
      "cell_type": "code",
      "metadata": {
        "colab": {
          "base_uri": "https://localhost:8080/"
        },
        "id": "r8_edb3T4sGA",
        "outputId": "9d3de8e0-75e8-48c4-ca60-a71619882648"
      },
      "source": [
        "contohList[1]"
      ],
      "execution_count": 32,
      "outputs": [
        {
          "output_type": "execute_result",
          "data": {
            "text/plain": [
              "2"
            ]
          },
          "metadata": {
            "tags": []
          },
          "execution_count": 32
        }
      ]
    },
    {
      "cell_type": "code",
      "metadata": {
        "colab": {
          "base_uri": "https://localhost:8080/"
        },
        "id": "gtXGuWYZ5zmY",
        "outputId": "d25ee3c2-dcb7-4f57-87e0-fadf15343706"
      },
      "source": [
        "contohList[3]"
      ],
      "execution_count": 33,
      "outputs": [
        {
          "output_type": "execute_result",
          "data": {
            "text/plain": [
              "5"
            ]
          },
          "metadata": {
            "tags": []
          },
          "execution_count": 33
        }
      ]
    },
    {
      "cell_type": "code",
      "metadata": {
        "colab": {
          "base_uri": "https://localhost:8080/"
        },
        "id": "Cf3y5fWz58Qs",
        "outputId": "12534bed-756e-4fed-a27a-e321c2bb92f4"
      },
      "source": [
        "contohList[-1]"
      ],
      "execution_count": 34,
      "outputs": [
        {
          "output_type": "execute_result",
          "data": {
            "text/plain": [
              "10"
            ]
          },
          "metadata": {
            "tags": []
          },
          "execution_count": 34
        }
      ]
    },
    {
      "cell_type": "code",
      "metadata": {
        "id": "ovsdFPh66TNy"
      },
      "source": [
        "stringList = ['foo', 'bar', 'baz', 'qux', 'quux', 'corge']"
      ],
      "execution_count": 35,
      "outputs": []
    },
    {
      "cell_type": "code",
      "metadata": {
        "colab": {
          "base_uri": "https://localhost:8080/"
        },
        "id": "WuEn3Gmq6iYz",
        "outputId": "b1f37d0f-d3fe-498f-a515-1a68f4741cd9"
      },
      "source": [
        "stringList"
      ],
      "execution_count": 36,
      "outputs": [
        {
          "output_type": "execute_result",
          "data": {
            "text/plain": [
              "['foo', 'bar', 'baz', 'qux', 'quux', 'corge']"
            ]
          },
          "metadata": {
            "tags": []
          },
          "execution_count": 36
        }
      ]
    },
    {
      "cell_type": "code",
      "metadata": {
        "colab": {
          "base_uri": "https://localhost:8080/"
        },
        "id": "BTnFc_Ee6jcz",
        "outputId": "f4623ff0-239d-4454-8644-f01c1c55026f"
      },
      "source": [
        "stringList[2:5]"
      ],
      "execution_count": 37,
      "outputs": [
        {
          "output_type": "execute_result",
          "data": {
            "text/plain": [
              "['baz', 'qux', 'quux']"
            ]
          },
          "metadata": {
            "tags": []
          },
          "execution_count": 37
        }
      ]
    },
    {
      "cell_type": "code",
      "metadata": {
        "colab": {
          "base_uri": "https://localhost:8080/"
        },
        "id": "X89N-f3e69K2",
        "outputId": "e16b963b-cb38-4acf-9664-b3e8944db013"
      },
      "source": [
        "len(stringList)"
      ],
      "execution_count": 38,
      "outputs": [
        {
          "output_type": "execute_result",
          "data": {
            "text/plain": [
              "6"
            ]
          },
          "metadata": {
            "tags": []
          },
          "execution_count": 38
        }
      ]
    },
    {
      "cell_type": "code",
      "metadata": {
        "id": "qtN2AIZ374RP"
      },
      "source": [
        "listCampuran = [2.3, True, 'qux', 'quux', 'corge', [1.1, 2.2]]"
      ],
      "execution_count": 42,
      "outputs": []
    },
    {
      "cell_type": "code",
      "metadata": {
        "colab": {
          "base_uri": "https://localhost:8080/"
        },
        "id": "uyxLoK7C8kZw",
        "outputId": "c0abc7ac-8579-43d6-b500-78a82bb509ac"
      },
      "source": [
        "listCampuran"
      ],
      "execution_count": 43,
      "outputs": [
        {
          "output_type": "execute_result",
          "data": {
            "text/plain": [
              "[2.3, True, 'qux', 'quux', 'corge', [1.1, 2.2]]"
            ]
          },
          "metadata": {
            "tags": []
          },
          "execution_count": 43
        }
      ]
    },
    {
      "cell_type": "code",
      "metadata": {
        "colab": {
          "base_uri": "https://localhost:8080/"
        },
        "id": "71yk4u2r8lbE",
        "outputId": "cead6ed9-a77f-424f-ce27-3bca25ae11b5"
      },
      "source": [
        "len(listCampuran)"
      ],
      "execution_count": 41,
      "outputs": [
        {
          "output_type": "execute_result",
          "data": {
            "text/plain": [
              "5"
            ]
          },
          "metadata": {
            "tags": []
          },
          "execution_count": 41
        }
      ]
    },
    {
      "cell_type": "code",
      "metadata": {
        "colab": {
          "base_uri": "https://localhost:8080/"
        },
        "id": "WS1rMv4g8o8M",
        "outputId": "519d0aea-3510-48b2-dd0c-7c8a96e84557"
      },
      "source": [
        "listCampuran[-1]"
      ],
      "execution_count": 44,
      "outputs": [
        {
          "output_type": "execute_result",
          "data": {
            "text/plain": [
              "[1.1, 2.2]"
            ]
          },
          "metadata": {
            "tags": []
          },
          "execution_count": 44
        }
      ]
    },
    {
      "cell_type": "code",
      "metadata": {
        "id": "NfbRQ31x-udy"
      },
      "source": [
        "identitas = {\n",
        "    'nama': 'Raka',\n",
        "    'umur': 27,\n",
        "    'instansi': 'Hacktiv8'\n",
        "}"
      ],
      "execution_count": 45,
      "outputs": []
    },
    {
      "cell_type": "code",
      "metadata": {
        "colab": {
          "base_uri": "https://localhost:8080/"
        },
        "id": "B2pd9AEmAGAd",
        "outputId": "f012d313-0beb-4fd2-9892-9899cd9952c3"
      },
      "source": [
        "identitas"
      ],
      "execution_count": 46,
      "outputs": [
        {
          "output_type": "execute_result",
          "data": {
            "text/plain": [
              "{'instansi': 'Hacktiv8', 'nama': 'Raka', 'umur': 27}"
            ]
          },
          "metadata": {
            "tags": []
          },
          "execution_count": 46
        }
      ]
    },
    {
      "cell_type": "code",
      "metadata": {
        "colab": {
          "base_uri": "https://localhost:8080/",
          "height": 35
        },
        "id": "OMr0NxQuAHYs",
        "outputId": "69a6303b-60cd-4772-b526-7e048b5cbad9"
      },
      "source": [
        "identitas['nama']"
      ],
      "execution_count": 47,
      "outputs": [
        {
          "output_type": "execute_result",
          "data": {
            "application/vnd.google.colaboratory.intrinsic+json": {
              "type": "string"
            },
            "text/plain": [
              "'Raka'"
            ]
          },
          "metadata": {
            "tags": []
          },
          "execution_count": 47
        }
      ]
    },
    {
      "cell_type": "code",
      "metadata": {
        "colab": {
          "base_uri": "https://localhost:8080/"
        },
        "id": "QpWC5XhEAPOi",
        "outputId": "9aaeee0f-092c-475a-8f92-8fe0432de455"
      },
      "source": [
        "identitas['umur']"
      ],
      "execution_count": 48,
      "outputs": [
        {
          "output_type": "execute_result",
          "data": {
            "text/plain": [
              "27"
            ]
          },
          "metadata": {
            "tags": []
          },
          "execution_count": 48
        }
      ]
    },
    {
      "cell_type": "code",
      "metadata": {
        "id": "08OaghFhASFR"
      },
      "source": [
        "identitas['nama'] = 'Wibi'"
      ],
      "execution_count": 49,
      "outputs": []
    },
    {
      "cell_type": "code",
      "metadata": {
        "colab": {
          "base_uri": "https://localhost:8080/"
        },
        "id": "Wnbn1GhqIQcQ",
        "outputId": "fe0b87f0-a22e-429a-c46b-de92c55c6036"
      },
      "source": [
        "identitas"
      ],
      "execution_count": 50,
      "outputs": [
        {
          "output_type": "execute_result",
          "data": {
            "text/plain": [
              "{'instansi': 'Hacktiv8', 'nama': 'Wibi', 'umur': 27}"
            ]
          },
          "metadata": {
            "tags": []
          },
          "execution_count": 50
        }
      ]
    },
    {
      "cell_type": "code",
      "metadata": {
        "id": "BDTV5fZhIRZo"
      },
      "source": [
        "del identitas['umur']"
      ],
      "execution_count": 51,
      "outputs": []
    },
    {
      "cell_type": "code",
      "metadata": {
        "colab": {
          "base_uri": "https://localhost:8080/"
        },
        "id": "OrWtW-g1ImGd",
        "outputId": "59316c24-ca52-4ad6-c54c-53e30dc53449"
      },
      "source": [
        "identitas"
      ],
      "execution_count": 52,
      "outputs": [
        {
          "output_type": "execute_result",
          "data": {
            "text/plain": [
              "{'instansi': 'Hacktiv8', 'nama': 'Wibi'}"
            ]
          },
          "metadata": {
            "tags": []
          },
          "execution_count": 52
        }
      ]
    },
    {
      "cell_type": "code",
      "metadata": {
        "colab": {
          "base_uri": "https://localhost:8080/"
        },
        "id": "qKlPlXmqIm8O",
        "outputId": "fa51f0ac-0060-431d-8fac-4c0306a396ec"
      },
      "source": [
        "identitas.keys()"
      ],
      "execution_count": 53,
      "outputs": [
        {
          "output_type": "execute_result",
          "data": {
            "text/plain": [
              "dict_keys(['nama', 'instansi'])"
            ]
          },
          "metadata": {
            "tags": []
          },
          "execution_count": 53
        }
      ]
    },
    {
      "cell_type": "code",
      "metadata": {
        "colab": {
          "base_uri": "https://localhost:8080/"
        },
        "id": "T9rGEh73J2ln",
        "outputId": "dd3ea0e4-26f9-42cc-81f3-0b1200455873"
      },
      "source": [
        "identitas.values()"
      ],
      "execution_count": 54,
      "outputs": [
        {
          "output_type": "execute_result",
          "data": {
            "text/plain": [
              "dict_values(['Wibi', 'Hacktiv8'])"
            ]
          },
          "metadata": {
            "tags": []
          },
          "execution_count": 54
        }
      ]
    },
    {
      "cell_type": "code",
      "metadata": {
        "id": "-Ipo1bCmJ5b8"
      },
      "source": [
        ""
      ],
      "execution_count": null,
      "outputs": []
    }
  ]
}