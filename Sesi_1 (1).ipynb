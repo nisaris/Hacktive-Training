{
  "nbformat": 4,
  "nbformat_minor": 0,
  "metadata": {
    "colab": {
      "name": "Sesi_1.ipynb",
      "provenance": []
    },
    "kernelspec": {
      "name": "python3",
      "display_name": "Python 3"
    }
  },
  "cells": [
    {
      "cell_type": "markdown",
      "metadata": {
        "id": "fB7AzwzblLfo"
      },
      "source": [
        "# Sesi 1"
      ]
    },
    {
      "cell_type": "markdown",
      "metadata": {
        "id": "7gdOg9BNoKBa"
      },
      "source": [
        "## Integer\n",
        "integer adalah bilangan bulat pada python"
      ]
    },
    {
      "cell_type": "code",
      "metadata": {
        "id": "RVeZTMR5kOYN",
        "colab": {
          "base_uri": "https://localhost:8080/"
        },
        "outputId": "dbbed84c-858a-40b0-e9c8-ac129541ae9d"
      },
      "source": [
        "print(1)"
      ],
      "execution_count": 1,
      "outputs": [
        {
          "output_type": "stream",
          "text": [
            "1\n"
          ],
          "name": "stdout"
        }
      ]
    },
    {
      "cell_type": "code",
      "metadata": {
        "colab": {
          "base_uri": "https://localhost:8080/"
        },
        "id": "IxzM-VBbn_E6",
        "outputId": "b5c54771-6dcc-4e8a-be79-a239f602ec93"
      },
      "source": [
        "print(type(10))"
      ],
      "execution_count": 2,
      "outputs": [
        {
          "output_type": "stream",
          "text": [
            "<class 'int'>\n"
          ],
          "name": "stdout"
        }
      ]
    },
    {
      "cell_type": "markdown",
      "metadata": {
        "id": "uUA3eST8pGU_"
      },
      "source": [
        "## Float\n",
        "Float adalah pecahan pada python (pake koma)"
      ]
    },
    {
      "cell_type": "code",
      "metadata": {
        "colab": {
          "base_uri": "https://localhost:8080/"
        },
        "id": "5UR1YwhWoo8X",
        "outputId": "ff5a98f1-d51b-4fe1-f0e7-ac8c5ba54f91"
      },
      "source": [
        "print(4.1)"
      ],
      "execution_count": 3,
      "outputs": [
        {
          "output_type": "stream",
          "text": [
            "4.1\n"
          ],
          "name": "stdout"
        }
      ]
    },
    {
      "cell_type": "code",
      "metadata": {
        "colab": {
          "base_uri": "https://localhost:8080/"
        },
        "id": "QgR0yuPwpPHL",
        "outputId": "20b94088-dec7-4e46-fc4f-574665951dd3"
      },
      "source": [
        "print(4e5)"
      ],
      "execution_count": 4,
      "outputs": [
        {
          "output_type": "stream",
          "text": [
            "400000.0\n"
          ],
          "name": "stdout"
        }
      ]
    },
    {
      "cell_type": "code",
      "metadata": {
        "colab": {
          "base_uri": "https://localhost:8080/"
        },
        "id": "EAU2DcRDpS1D",
        "outputId": "aaabd8f2-4f98-4cce-e37d-57d0ac44209b"
      },
      "source": [
        "print(4e-2)"
      ],
      "execution_count": 5,
      "outputs": [
        {
          "output_type": "stream",
          "text": [
            "0.04\n"
          ],
          "name": "stdout"
        }
      ]
    },
    {
      "cell_type": "markdown",
      "metadata": {
        "id": "oaqnVuFupurO"
      },
      "source": [
        "# String\n",
        "String digunakan untuk karakter. ditandai pakai tanda kutip, mau kutip 1 atau 2 yang penting konsisten"
      ]
    },
    {
      "cell_type": "code",
      "metadata": {
        "colab": {
          "base_uri": "https://localhost:8080/"
        },
        "id": "MO5rqk-2pYLa",
        "outputId": "6ee74570-a78d-448a-90e4-798d69ba6abc"
      },
      "source": [
        "print('tes')"
      ],
      "execution_count": 6,
      "outputs": [
        {
          "output_type": "stream",
          "text": [
            "tes\n"
          ],
          "name": "stdout"
        }
      ]
    },
    {
      "cell_type": "code",
      "metadata": {
        "colab": {
          "base_uri": "https://localhost:8080/"
        },
        "id": "aAErxVnhp6Jx",
        "outputId": "e42eff0e-88a7-430c-e800-968290ae8862"
      },
      "source": [
        "print(type('tes'))"
      ],
      "execution_count": 7,
      "outputs": [
        {
          "output_type": "stream",
          "text": [
            "<class 'str'>\n"
          ],
          "name": "stdout"
        }
      ]
    },
    {
      "cell_type": "markdown",
      "metadata": {
        "id": "vMYjobUDrDUa"
      },
      "source": [
        "## Boolean\n",
        "untuk benar atau salah"
      ]
    },
    {
      "cell_type": "code",
      "metadata": {
        "colab": {
          "base_uri": "https://localhost:8080/"
        },
        "id": "etGxVWYyqBAT",
        "outputId": "a8637b98-3c70-4990-d89e-2d105f7bf8e3"
      },
      "source": [
        "print(type(0.1+0.1+0.1==0.3))"
      ],
      "execution_count": 9,
      "outputs": [
        {
          "output_type": "stream",
          "text": [
            "<class 'bool'>\n"
          ],
          "name": "stdout"
        }
      ]
    },
    {
      "cell_type": "code",
      "metadata": {
        "colab": {
          "base_uri": "https://localhost:8080/"
        },
        "id": "Szrqj8qerbhB",
        "outputId": "3ebc64ac-020f-4c83-a9f3-1bed2b05b172"
      },
      "source": [
        "bool(0.1+0.1+0.1==0.3)"
      ],
      "execution_count": 10,
      "outputs": [
        {
          "output_type": "execute_result",
          "data": {
            "text/plain": [
              "False"
            ]
          },
          "metadata": {
            "tags": []
          },
          "execution_count": 10
        }
      ]
    },
    {
      "cell_type": "code",
      "metadata": {
        "colab": {
          "base_uri": "https://localhost:8080/"
        },
        "id": "5UGc7LHDrgqB",
        "outputId": "e85e2d43-25b6-437d-9451-6f6b2c9d59c4"
      },
      "source": [
        "bool(0.1+0.1+0.1+0.1==0.3)"
      ],
      "execution_count": 11,
      "outputs": [
        {
          "output_type": "execute_result",
          "data": {
            "text/plain": [
              "False"
            ]
          },
          "metadata": {
            "tags": []
          },
          "execution_count": 11
        }
      ]
    },
    {
      "cell_type": "code",
      "metadata": {
        "colab": {
          "base_uri": "https://localhost:8080/"
        },
        "id": "zNQSfB-armrr",
        "outputId": "405c3fcb-37ab-4b79-8f75-d102e6ff922a"
      },
      "source": [
        "bool(0.1+0.1+0.1+0.1==0.4)"
      ],
      "execution_count": 12,
      "outputs": [
        {
          "output_type": "execute_result",
          "data": {
            "text/plain": [
              "True"
            ]
          },
          "metadata": {
            "tags": []
          },
          "execution_count": 12
        }
      ]
    },
    {
      "cell_type": "markdown",
      "metadata": {
        "id": "Cl0_hhaPs-mQ"
      },
      "source": [
        "## Variable assignment"
      ]
    },
    {
      "cell_type": "code",
      "metadata": {
        "id": "ZVz_X4RIrqdX"
      },
      "source": [
        "kotakBrownies = 5"
      ],
      "execution_count": 13,
      "outputs": []
    },
    {
      "cell_type": "code",
      "metadata": {
        "colab": {
          "base_uri": "https://localhost:8080/"
        },
        "id": "tuvOIkaetR2J",
        "outputId": "1b0028b9-e646-47ce-e876-d597dc8a8daa"
      },
      "source": [
        "kotakBrownies - 2"
      ],
      "execution_count": 14,
      "outputs": [
        {
          "output_type": "execute_result",
          "data": {
            "text/plain": [
              "3"
            ]
          },
          "metadata": {
            "tags": []
          },
          "execution_count": 14
        }
      ]
    },
    {
      "cell_type": "code",
      "metadata": {
        "colab": {
          "base_uri": "https://localhost:8080/"
        },
        "id": "PxaN5903tWHN",
        "outputId": "7f1a6866-cd92-49ad-f72f-414fa0ad2d11"
      },
      "source": [
        "print(kotakBrownies)"
      ],
      "execution_count": 15,
      "outputs": [
        {
          "output_type": "stream",
          "text": [
            "5\n"
          ],
          "name": "stdout"
        }
      ]
    },
    {
      "cell_type": "code",
      "metadata": {
        "id": "DvmuIGTytZlw"
      },
      "source": [
        "n = \"haha\""
      ],
      "execution_count": 16,
      "outputs": []
    },
    {
      "cell_type": "code",
      "metadata": {
        "colab": {
          "base_uri": "https://localhost:8080/"
        },
        "id": "KLv4Y-MJu3RY",
        "outputId": "916117f2-5b28-4471-b466-e290cd394844"
      },
      "source": [
        "print(n)"
      ],
      "execution_count": 17,
      "outputs": [
        {
          "output_type": "stream",
          "text": [
            "haha\n"
          ],
          "name": "stdout"
        }
      ]
    },
    {
      "cell_type": "code",
      "metadata": {
        "id": "Cipun6iku5IU"
      },
      "source": [
        "z = 3"
      ],
      "execution_count": 18,
      "outputs": []
    },
    {
      "cell_type": "code",
      "metadata": {
        "colab": {
          "base_uri": "https://localhost:8080/"
        },
        "id": "OapYBuHwvE_e",
        "outputId": "0f410c2f-b3f3-41a3-b3c5-6bed98bb0a5d"
      },
      "source": [
        "kotakBrownies + z"
      ],
      "execution_count": 19,
      "outputs": [
        {
          "output_type": "execute_result",
          "data": {
            "text/plain": [
              "8"
            ]
          },
          "metadata": {
            "tags": []
          },
          "execution_count": 19
        }
      ]
    },
    {
      "cell_type": "code",
      "metadata": {
        "id": "ORJewP3XvG83"
      },
      "source": [
        "yu = kotakBrownies + z"
      ],
      "execution_count": 20,
      "outputs": []
    },
    {
      "cell_type": "code",
      "metadata": {
        "colab": {
          "base_uri": "https://localhost:8080/"
        },
        "id": "pk-AUqv6vJ4r",
        "outputId": "c3bfe24e-71ee-474d-b555-86a239181f0a"
      },
      "source": [
        "print(yu)"
      ],
      "execution_count": 21,
      "outputs": [
        {
          "output_type": "stream",
          "text": [
            "8\n"
          ],
          "name": "stdout"
        }
      ]
    },
    {
      "cell_type": "markdown",
      "metadata": {
        "id": "coxpCxHAy9er"
      },
      "source": [
        "## Operator and Expressions"
      ]
    },
    {
      "cell_type": "code",
      "metadata": {
        "id": "glVCw9U1vLkC"
      },
      "source": [
        "a = 10\n",
        "b = 20"
      ],
      "execution_count": 22,
      "outputs": []
    },
    {
      "cell_type": "code",
      "metadata": {
        "colab": {
          "base_uri": "https://localhost:8080/"
        },
        "id": "Pv0k-mxmzDf2",
        "outputId": "d704c258-6f96-4d08-ab5f-bb83701d2895"
      },
      "source": [
        "print(a+b)"
      ],
      "execution_count": 23,
      "outputs": [
        {
          "output_type": "stream",
          "text": [
            "30\n"
          ],
          "name": "stdout"
        }
      ]
    },
    {
      "cell_type": "code",
      "metadata": {
        "colab": {
          "base_uri": "https://localhost:8080/"
        },
        "id": "cU-_Ex2nzKKA",
        "outputId": "ff959c9c-658a-409b-b980-423b01ea6e1e"
      },
      "source": [
        "print(25%5)"
      ],
      "execution_count": 24,
      "outputs": [
        {
          "output_type": "stream",
          "text": [
            "0\n"
          ],
          "name": "stdout"
        }
      ]
    },
    {
      "cell_type": "code",
      "metadata": {
        "colab": {
          "base_uri": "https://localhost:8080/"
        },
        "id": "XXjbSBE30JlU",
        "outputId": "b70c1247-a579-430c-caab-c96a8052c998"
      },
      "source": [
        "print(9%2)"
      ],
      "execution_count": 25,
      "outputs": [
        {
          "output_type": "stream",
          "text": [
            "1\n"
          ],
          "name": "stdout"
        }
      ]
    },
    {
      "cell_type": "code",
      "metadata": {
        "id": "kgvekHmR0LmX"
      },
      "source": [
        "a = 10\n",
        "b = '10'"
      ],
      "execution_count": 26,
      "outputs": []
    },
    {
      "cell_type": "code",
      "metadata": {
        "colab": {
          "base_uri": "https://localhost:8080/"
        },
        "id": "0mr_hQaD2ts5",
        "outputId": "e43e7ea9-3aed-4be5-e00b-ed4315f783a7"
      },
      "source": [
        "a == b"
      ],
      "execution_count": 27,
      "outputs": [
        {
          "output_type": "execute_result",
          "data": {
            "text/plain": [
              "False"
            ]
          },
          "metadata": {
            "tags": []
          },
          "execution_count": 27
        }
      ]
    },
    {
      "cell_type": "code",
      "metadata": {
        "id": "uwOPaYAR2u96"
      },
      "source": [
        "a = 5"
      ],
      "execution_count": 28,
      "outputs": []
    },
    {
      "cell_type": "code",
      "metadata": {
        "id": "p3Kvwonz2xgb"
      },
      "source": [
        "b = 'rock'"
      ],
      "execution_count": 29,
      "outputs": []
    },
    {
      "cell_type": "code",
      "metadata": {
        "id": "lEDsCohb2zdK"
      },
      "source": [
        "a = b"
      ],
      "execution_count": 30,
      "outputs": []
    },
    {
      "cell_type": "code",
      "metadata": {
        "id": "jbiNtexC20Sb"
      },
      "source": [
        "a = 5\n",
        "b = 'rock'"
      ],
      "execution_count": 31,
      "outputs": []
    },
    {
      "cell_type": "code",
      "metadata": {
        "colab": {
          "base_uri": "https://localhost:8080/"
        },
        "id": "3UZLIptP24EN",
        "outputId": "5bc40340-5d49-44bc-9eea-7fdab81e7856"
      },
      "source": [
        "a == b"
      ],
      "execution_count": 32,
      "outputs": [
        {
          "output_type": "execute_result",
          "data": {
            "text/plain": [
              "False"
            ]
          },
          "metadata": {
            "tags": []
          },
          "execution_count": 32
        }
      ]
    },
    {
      "cell_type": "markdown",
      "metadata": {
        "id": "Tov7KSBJ4Xpr"
      },
      "source": [
        "##  Python List"
      ]
    },
    {
      "cell_type": "code",
      "metadata": {
        "id": "H9w55XjV25tl"
      },
      "source": [
        "a = [\"la\",'laa','duu']"
      ],
      "execution_count": 33,
      "outputs": []
    },
    {
      "cell_type": "code",
      "metadata": {
        "colab": {
          "base_uri": "https://localhost:8080/"
        },
        "id": "ueRFRpna42Sp",
        "outputId": "786fb366-b06c-4503-c1b0-57099bc484f9"
      },
      "source": [
        "print(a)"
      ],
      "execution_count": 34,
      "outputs": [
        {
          "output_type": "stream",
          "text": [
            "['la', 'laa', 'duu']\n"
          ],
          "name": "stdout"
        }
      ]
    },
    {
      "cell_type": "code",
      "metadata": {
        "id": "GKOw3jwW4310"
      },
      "source": [
        "b = ['do','re','mi']"
      ],
      "execution_count": 35,
      "outputs": []
    },
    {
      "cell_type": "code",
      "metadata": {
        "id": "MIDroRfU5aLS"
      },
      "source": [
        "c = [a,b]"
      ],
      "execution_count": 36,
      "outputs": []
    },
    {
      "cell_type": "code",
      "metadata": {
        "colab": {
          "base_uri": "https://localhost:8080/"
        },
        "id": "AdfL64AN5dik",
        "outputId": "9f2daa4d-bfce-43c7-d4e7-dcf6109629fe"
      },
      "source": [
        "print(c)"
      ],
      "execution_count": 37,
      "outputs": [
        {
          "output_type": "stream",
          "text": [
            "[['la', 'laa', 'duu'], ['do', 're', 'mi']]\n"
          ],
          "name": "stdout"
        }
      ]
    },
    {
      "cell_type": "code",
      "metadata": {
        "colab": {
          "base_uri": "https://localhost:8080/"
        },
        "id": "t40K59On5vQv",
        "outputId": "34b6f1b8-61b7-4f7c-8654-be58e76d813c"
      },
      "source": [
        "print(c[1])"
      ],
      "execution_count": 40,
      "outputs": [
        {
          "output_type": "stream",
          "text": [
            "['do', 're', 'mi']\n"
          ],
          "name": "stdout"
        }
      ]
    },
    {
      "cell_type": "code",
      "metadata": {
        "colab": {
          "base_uri": "https://localhost:8080/"
        },
        "id": "Hk5UQ0tK57xk",
        "outputId": "a299a2b2-eae6-41c6-bc49-9dbdd0eb5473"
      },
      "source": [
        "print(a[2])"
      ],
      "execution_count": 42,
      "outputs": [
        {
          "output_type": "stream",
          "text": [
            "duu\n"
          ],
          "name": "stdout"
        }
      ]
    },
    {
      "cell_type": "code",
      "metadata": {
        "colab": {
          "base_uri": "https://localhost:8080/"
        },
        "id": "JvUKrLDH5-is",
        "outputId": "49b793dc-1861-4cb3-9b5a-785f49a6aa5f"
      },
      "source": [
        "print(a[1:2])"
      ],
      "execution_count": 43,
      "outputs": [
        {
          "output_type": "stream",
          "text": [
            "['laa']\n"
          ],
          "name": "stdout"
        }
      ]
    },
    {
      "cell_type": "code",
      "metadata": {
        "id": "eXv3Knln7ly7"
      },
      "source": [
        ""
      ],
      "execution_count": null,
      "outputs": []
    }
  ]
}